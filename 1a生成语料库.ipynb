{
 "cells": [
  {
   "cell_type": "code",
   "execution_count": null,
   "metadata": {},
   "outputs": [],
   "source": [
    "#click.csv是原train中click=1的样本\n",
    "click=pd.read_csv('data/data18783/click.csv')"
   ]
  },
  {
   "cell_type": "code",
   "execution_count": null,
   "metadata": {},
   "outputs": [],
   "source": [
    "#clickcount是每个user点击的总数 \n",
    "click['user']=click['device_id'].astype(str)+ '_' + click['device_ip'].astype(str)+ '_' +click['device_model'].astype(str)\n",
    "groups=click.groupby(['user'])\n",
    "temp=groups.size().reset_index().rename(columns={0:'clickcounts'})\n",
    "click = click.merge(temp, on='user', how='left')"
   ]
  },
  {
   "cell_type": "code",
   "execution_count": null,
   "metadata": {},
   "outputs": [],
   "source": [
    "#只抽三天的做语料库\n",
    "\n",
    "click=click[(click.day==29)|(click.day==28)|(click.day==27)]\n",
    "#滤掉一些不能用的\n",
    "click_used=click[(click['clickcounts']<1000)&(click['clickcounts']>3)]\n",
    "\n",
    "\n",
    "#选特征重要性排名靠前的特征\n",
    "import pickle\n",
    "\n",
    "site_id=click_used['site_id'].unique().tolist()\n",
    "pickle.dump(site_id, open('data/data18783/site_id.pkl', 'wb'))\n",
    "\n",
    "site_domain=click_used['site_domain'].unique().tolist()\n",
    "pickle.dump(site_domain, open('data/data18783/site_domain.pkl', 'wb'))\n",
    "\n",
    "app_id=click_used['app_id'].unique().tolist()\n",
    "pickle.dump(app_id, open('data/data18783/app_id.pkl', 'wb'))\n",
    "\n",
    "\n",
    "#排序\n",
    "click_used=click_used.sort_values(by=['user','time'])\n",
    "\n",
    "#用户列表\n",
    "click_user=click_used['user'].unique().tolist()\n",
    "print(len(click_user))"
   ]
  },
  {
   "cell_type": "code",
   "execution_count": null,
   "metadata": {},
   "outputs": [],
   "source": [
    "#以下即为生成语料库的代码，目录需自行修改\n",
    "\n",
    "from tqdm import tqdm\n",
    "import pickle\n",
    "\n",
    "#行为历史记录\n",
    "site_id_history={}\n",
    "for i in tqdm(click_user):\n",
    "    temp=click_used[click_used['user']==i]\n",
    "    templist=temp['site_id'].values.tolist()\n",
    "    if (len(set(templist))!=1):\n",
    "       site_id_history[i]=templist\n",
    "   \n",
    "\n",
    "pickle.dump(site_id_history, open('data/data18783/site_id_history.pkl', 'wb'))\n",
    "\n",
    "\n",
    "#行为历史记录\n",
    "app_id_history={}\n",
    "for i in tqdm(click_user):\n",
    "    temp=click_used[click_used['user']==i]\n",
    "    templist=temp['app_id'].values.tolist()\n",
    "    if (len(set(templist))!=1):\n",
    "       app_id_history[i]=templist\n",
    "   \n",
    "\n",
    "pickle.dump(app_id_history, open('data/data18783/app_id_history.pkl', 'wb'))\n",
    "\n",
    "#行为历史记录\n",
    "site_domain_history={}\n",
    "for i in tqdm(click_user):\n",
    "    temp=click_used[click_used['user']==i]\n",
    "    templist=temp['site_domain'].values.tolist()\n",
    "    if (len(set(templist))!=1):\n",
    "       site_domain_history[i]=templist\n",
    "\n",
    "\n",
    "pickle.dump(site_domain_history, open('data/data18783/site_domain_history.pkl', 'wb'))"
   ]
  }
 ],
 "metadata": {
  "kernelspec": {
   "display_name": "Python 3",
   "language": "python",
   "name": "python3"
  },
  "language_info": {
   "codemirror_mode": {
    "name": "ipython",
    "version": 3
   },
   "file_extension": ".py",
   "mimetype": "text/x-python",
   "name": "python",
   "nbconvert_exporter": "python",
   "pygments_lexer": "ipython3",
   "version": "3.7.3"
  }
 },
 "nbformat": 4,
 "nbformat_minor": 2
}
