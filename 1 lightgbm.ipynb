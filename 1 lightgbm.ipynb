{
 "cells": [
  {
   "cell_type": "code",
   "execution_count": 1,
   "metadata": {},
   "outputs": [],
   "source": [
    "import pandas as pd\n",
    "import numpy as np\n",
    "import gc"
   ]
  },
  {
   "cell_type": "code",
   "execution_count": 2,
   "metadata": {},
   "outputs": [],
   "source": [
    "train=pd.read_csv('/home/aistudio/data/data18783/train.csv')"
   ]
  },
  {
   "cell_type": "code",
   "execution_count": null,
   "metadata": {},
   "outputs": [
    {
     "data": {
      "text/plain": [
       "Index(['id', 'click', 'hour', 'C1', 'banner_pos', 'site_id', 'site_domain',\n",
       "       'site_category', 'app_id', 'app_domain', 'app_category', 'device_id',\n",
       "       'device_ip', 'device_model', 'device_type', 'device_conn_type', 'C14',\n",
       "       'C15', 'C16', 'C17', 'C18', 'C19', 'C20', 'C21'],\n",
       "      dtype='object')"
      ]
     },
     "execution_count": null,
     "metadata": {},
     "output_type": "execute_result"
    }
   ],
   "source": [
    "train.columns"
   ]
  },
  {
   "cell_type": "code",
   "execution_count": null,
   "metadata": {},
   "outputs": [],
   "source": [
    "test=pd.read_csv('/home/aistudio/data/data18783/test.csv')"
   ]
  },
  {
   "cell_type": "code",
   "execution_count": null,
   "metadata": {},
   "outputs": [
    {
     "data": {
      "text/plain": [
       "Index(['id', 'hour', 'C1', 'banner_pos', 'site_id', 'site_domain',\n",
       "       'site_category', 'app_id', 'app_domain', 'app_category', 'device_id',\n",
       "       'device_ip', 'device_model', 'device_type', 'device_conn_type', 'C14',\n",
       "       'C15', 'C16', 'C17', 'C18', 'C19', 'C20', 'C21'],\n",
       "      dtype='object')"
      ]
     },
     "execution_count": null,
     "metadata": {},
     "output_type": "execute_result"
    }
   ],
   "source": [
    "test.columns"
   ]
  },
  {
   "cell_type": "code",
   "execution_count": null,
   "metadata": {},
   "outputs": [],
   "source": [
    "train = pd.concat([train, test], ignore_index=True, sort=False)"
   ]
  },
  {
   "cell_type": "code",
   "execution_count": 3,
   "metadata": {},
   "outputs": [],
   "source": [
    "def reduce_mem_usage(df, verbose=True):\n",
    "    numerics = ['int16', 'int32', 'int64', 'float16', 'float32', 'float64']\n",
    "    start_mem = df.memory_usage().sum() / 1024**2    \n",
    "    for col in df.columns:\n",
    "        col_type = df[col].dtypes\n",
    "        if col_type in numerics:\n",
    "            c_min = df[col].min()\n",
    "            c_max = df[col].max()\n",
    "            if str(col_type)[:3] == 'int':\n",
    "                if c_min > np.iinfo(np.int8).min and c_max < np.iinfo(np.int8).max:\n",
    "                    df[col] = df[col].astype(np.int8)\n",
    "                elif c_min > np.iinfo(np.int16).min and c_max < np.iinfo(np.int16).max:\n",
    "                    df[col] = df[col].astype(np.int16)\n",
    "                elif c_min > np.iinfo(np.int32).min and c_max < np.iinfo(np.int32).max:\n",
    "                    df[col] = df[col].astype(np.int32)\n",
    "                elif c_min > np.iinfo(np.int64).min and c_max < np.iinfo(np.int64).max:\n",
    "                    df[col] = df[col].astype(np.int64)  \n",
    "            else:\n",
    "                if c_min > np.finfo(np.float16).min and c_max < np.finfo(np.float16).max:\n",
    "                    df[col] = df[col].astype(np.float16)\n",
    "                elif c_min > np.finfo(np.float32).min and c_max < np.finfo(np.float32).max:\n",
    "                    df[col] = df[col].astype(np.float32)\n",
    "                else:\n",
    "                    df[col] = df[col].astype(np.float64)    \n",
    "    end_mem = df.memory_usage().sum() / 1024**2\n",
    "    if verbose: print('Mem. usage decreased to {:5.2f} Mb ({:.1f}% reduction)'.format(end_mem, 100 * (start_mem - end_mem) / start_mem))\n",
    "    return df"
   ]
  },
  {
   "cell_type": "code",
   "execution_count": 4,
   "metadata": {},
   "outputs": [
    {
     "name": "stdout",
     "output_type": "stream",
     "text": [
      "Mem. usage decreased to 3971.28 Mb (46.4% reduction)\n"
     ]
    }
   ],
   "source": [
    "train=reduce_mem_usage(train)"
   ]
  },
  {
   "cell_type": "code",
   "execution_count": null,
   "metadata": {},
   "outputs": [
    {
     "data": {
      "text/html": [
       "<div>\n",
       "<style scoped>\n",
       "    .dataframe tbody tr th:only-of-type {\n",
       "        vertical-align: middle;\n",
       "    }\n",
       "\n",
       "    .dataframe tbody tr th {\n",
       "        vertical-align: top;\n",
       "    }\n",
       "\n",
       "    .dataframe thead th {\n",
       "        text-align: right;\n",
       "    }\n",
       "</style>\n",
       "<table border=\"1\" class=\"dataframe\">\n",
       "  <thead>\n",
       "    <tr style=\"text-align: right;\">\n",
       "      <th></th>\n",
       "      <th>id</th>\n",
       "      <th>click</th>\n",
       "      <th>hour</th>\n",
       "      <th>C1</th>\n",
       "      <th>banner_pos</th>\n",
       "      <th>site_id</th>\n",
       "      <th>site_domain</th>\n",
       "      <th>site_category</th>\n",
       "      <th>app_id</th>\n",
       "      <th>app_domain</th>\n",
       "      <th>...</th>\n",
       "      <th>C16</th>\n",
       "      <th>C17</th>\n",
       "      <th>C18</th>\n",
       "      <th>C19</th>\n",
       "      <th>C20</th>\n",
       "      <th>C21</th>\n",
       "      <th>time</th>\n",
       "      <th>day</th>\n",
       "      <th>user</th>\n",
       "      <th>clickcounts</th>\n",
       "    </tr>\n",
       "  </thead>\n",
       "  <tbody>\n",
       "    <tr>\n",
       "      <th>0</th>\n",
       "      <td>1.000009e+18</td>\n",
       "      <td>0</td>\n",
       "      <td>0</td>\n",
       "      <td>1005</td>\n",
       "      <td>0</td>\n",
       "      <td>1fbe01fe</td>\n",
       "      <td>f3845767</td>\n",
       "      <td>28905ebd</td>\n",
       "      <td>ecad2386</td>\n",
       "      <td>7801e8d9</td>\n",
       "      <td>...</td>\n",
       "      <td>50</td>\n",
       "      <td>1722</td>\n",
       "      <td>0</td>\n",
       "      <td>35</td>\n",
       "      <td>-1</td>\n",
       "      <td>79</td>\n",
       "      <td>2014-10-21</td>\n",
       "      <td>21</td>\n",
       "      <td>a99f214a_ddd2926e_44956a24</td>\n",
       "      <td>27.0</td>\n",
       "    </tr>\n",
       "    <tr>\n",
       "      <th>1</th>\n",
       "      <td>1.000017e+19</td>\n",
       "      <td>0</td>\n",
       "      <td>0</td>\n",
       "      <td>1005</td>\n",
       "      <td>0</td>\n",
       "      <td>1fbe01fe</td>\n",
       "      <td>f3845767</td>\n",
       "      <td>28905ebd</td>\n",
       "      <td>ecad2386</td>\n",
       "      <td>7801e8d9</td>\n",
       "      <td>...</td>\n",
       "      <td>50</td>\n",
       "      <td>1722</td>\n",
       "      <td>0</td>\n",
       "      <td>35</td>\n",
       "      <td>100084</td>\n",
       "      <td>79</td>\n",
       "      <td>2014-10-21</td>\n",
       "      <td>21</td>\n",
       "      <td>a99f214a_96809ac8_711ee120</td>\n",
       "      <td>5.0</td>\n",
       "    </tr>\n",
       "    <tr>\n",
       "      <th>2</th>\n",
       "      <td>1.000037e+19</td>\n",
       "      <td>0</td>\n",
       "      <td>0</td>\n",
       "      <td>1005</td>\n",
       "      <td>0</td>\n",
       "      <td>1fbe01fe</td>\n",
       "      <td>f3845767</td>\n",
       "      <td>28905ebd</td>\n",
       "      <td>ecad2386</td>\n",
       "      <td>7801e8d9</td>\n",
       "      <td>...</td>\n",
       "      <td>50</td>\n",
       "      <td>1722</td>\n",
       "      <td>0</td>\n",
       "      <td>35</td>\n",
       "      <td>100084</td>\n",
       "      <td>79</td>\n",
       "      <td>2014-10-21</td>\n",
       "      <td>21</td>\n",
       "      <td>a99f214a_b3cf8def_8a4875bd</td>\n",
       "      <td>2.0</td>\n",
       "    </tr>\n",
       "    <tr>\n",
       "      <th>3</th>\n",
       "      <td>1.000064e+19</td>\n",
       "      <td>0</td>\n",
       "      <td>0</td>\n",
       "      <td>1005</td>\n",
       "      <td>0</td>\n",
       "      <td>1fbe01fe</td>\n",
       "      <td>f3845767</td>\n",
       "      <td>28905ebd</td>\n",
       "      <td>ecad2386</td>\n",
       "      <td>7801e8d9</td>\n",
       "      <td>...</td>\n",
       "      <td>50</td>\n",
       "      <td>1722</td>\n",
       "      <td>0</td>\n",
       "      <td>35</td>\n",
       "      <td>100084</td>\n",
       "      <td>79</td>\n",
       "      <td>2014-10-21</td>\n",
       "      <td>21</td>\n",
       "      <td>a99f214a_e8275b8f_6332421a</td>\n",
       "      <td>1.0</td>\n",
       "    </tr>\n",
       "    <tr>\n",
       "      <th>4</th>\n",
       "      <td>1.000068e+19</td>\n",
       "      <td>0</td>\n",
       "      <td>0</td>\n",
       "      <td>1005</td>\n",
       "      <td>1</td>\n",
       "      <td>fe8cc448</td>\n",
       "      <td>9166c161</td>\n",
       "      <td>0569f928</td>\n",
       "      <td>ecad2386</td>\n",
       "      <td>7801e8d9</td>\n",
       "      <td>...</td>\n",
       "      <td>50</td>\n",
       "      <td>2161</td>\n",
       "      <td>0</td>\n",
       "      <td>35</td>\n",
       "      <td>-1</td>\n",
       "      <td>157</td>\n",
       "      <td>2014-10-21</td>\n",
       "      <td>21</td>\n",
       "      <td>a99f214a_9644d0bf_779d90c2</td>\n",
       "      <td>NaN</td>\n",
       "    </tr>\n",
       "  </tbody>\n",
       "</table>\n",
       "<p>5 rows × 28 columns</p>\n",
       "</div>"
      ],
      "text/plain": [
       "             id  click  hour    C1  banner_pos   site_id site_domain  \\\n",
       "0  1.000009e+18      0     0  1005           0  1fbe01fe    f3845767   \n",
       "1  1.000017e+19      0     0  1005           0  1fbe01fe    f3845767   \n",
       "2  1.000037e+19      0     0  1005           0  1fbe01fe    f3845767   \n",
       "3  1.000064e+19      0     0  1005           0  1fbe01fe    f3845767   \n",
       "4  1.000068e+19      0     0  1005           1  fe8cc448    9166c161   \n",
       "\n",
       "  site_category    app_id app_domain     ...      C16   C17 C18 C19     C20  \\\n",
       "0      28905ebd  ecad2386   7801e8d9     ...       50  1722   0  35      -1   \n",
       "1      28905ebd  ecad2386   7801e8d9     ...       50  1722   0  35  100084   \n",
       "2      28905ebd  ecad2386   7801e8d9     ...       50  1722   0  35  100084   \n",
       "3      28905ebd  ecad2386   7801e8d9     ...       50  1722   0  35  100084   \n",
       "4      0569f928  ecad2386   7801e8d9     ...       50  2161   0  35      -1   \n",
       "\n",
       "   C21       time  day                        user  clickcounts  \n",
       "0   79 2014-10-21   21  a99f214a_ddd2926e_44956a24         27.0  \n",
       "1   79 2014-10-21   21  a99f214a_96809ac8_711ee120          5.0  \n",
       "2   79 2014-10-21   21  a99f214a_b3cf8def_8a4875bd          2.0  \n",
       "3   79 2014-10-21   21  a99f214a_e8275b8f_6332421a          1.0  \n",
       "4  157 2014-10-21   21  a99f214a_9644d0bf_779d90c2          NaN  \n",
       "\n",
       "[5 rows x 28 columns]"
      ]
     },
     "execution_count": null,
     "metadata": {},
     "output_type": "execute_result"
    }
   ],
   "source": [
    "train.head()"
   ]
  },
  {
   "cell_type": "code",
   "execution_count": 5,
   "metadata": {},
   "outputs": [],
   "source": [
    "\n",
    "train['time']=pd.to_datetime(train['hour'],format='%y%m%d%H')\n",
    "train['day']=train['time'].dt.day\n",
    "train['hour']=train['time'].dt.hour\n",
    "\n",
    "train['user']=train['device_id'].astype(str)+ '_' + train['device_ip'].astype(str)+ '_' +train['device_model'].astype(str)\n",
    "train['app']=train['app_id'].astype(str)+ '_' + train['app_domain'].astype(str)+ '_' +train['app_category'].astype(str)\n",
    "train['site']=train['site_id'].astype(str)+ '_' + train['site_domain'].astype(str)+ '_' +train['site_category'].astype(str)\n",
    "\n",
    "\n"
   ]
  },
  {
   "cell_type": "code",
   "execution_count": null,
   "metadata": {},
   "outputs": [
    {
     "data": {
      "text/plain": [
       "173"
      ]
     },
     "execution_count": null,
     "metadata": {},
     "output_type": "execute_result"
    }
   ],
   "source": [
    "#选了最近三天做训练集\n",
    "matrix=train[(train.day==31)|(train.day==30)|(train.day==29)|(train.day==28)]\n",
    "del train,test\n",
    "gc.collect()"
   ]
  },
  {
   "cell_type": "code",
   "execution_count": 7,
   "metadata": {},
   "outputs": [
    {
     "data": {
      "text/plain": [
       "\"\\nmatrix['id_count']=matrix.groupby(['site_id','app_id'])['site_id'].transform('count')\\nmatrix['cat_count']=matrix.groupby(['site_category','app_category'])['site_category'].transform('count')\\nmatrix['domain_count']=matrix.groupby(['site_domain','app_domain'])['site_domain'].transform('count')\\nmatrix['hourly_id_count']=matrix.groupby(['site_id','app_id','hour'])['site_id'].transform('count')\\n\\nmatrix['hourly_cat_count']=matrix.groupby(['site_category','app_category','hour'])['site_category'].transform('count')\\nmatrix['hourly_domain_count']=matrix.groupby(['site_domain','app_domain','hour'])['site_domain'].transform('count')\\n\\nmatrix['id_model_count']=matrix.groupby(['app_id','device_model'])['app_id'].transform('count')\\nmatrix['id_mid_count']=matrix.groupby(['app_id','device_id'])['app_id'].transform('count')\\nmatrix['sid_model_count']=matrix.groupby(['site_id','device_model'])['site_id'].transform('count')\\nmatrix['site_domain_count']=matrix.groupby(['site_domain','C20'])['C20'].transform('count')\\n\\n\\nmatrix['C14_count']=matrix.groupby(['C14'])['C14'].transform('count')\\nmatrix['C21_count']=matrix.groupby(['C21'])['C21'].transform('count')\\nmatrix['C19_count']=matrix.groupby(['C19'])['C19'].transform('count')\\nmatrix['C20_count']=matrix.groupby(['C20'])['C20'].transform('count')\\n\""
      ]
     },
     "execution_count": 7,
     "metadata": {},
     "output_type": "execute_result"
    }
   ],
   "source": [
    "#喜闻乐见的count特征\n",
    "matrix['device_ip_count']=matrix.groupby(['device_ip'])['device_ip'].transform('count')\n",
    "matrix['device_id_count']=matrix.groupby(['device_id'])['device_id'].transform('count')\n",
    "matrix['hourly_device_ip_count']=matrix.groupby(['device_ip','hour'])['device_ip'].transform('count')\n",
    "matrix['hourly_device_id_count']=matrix.groupby(['device_id','hour'])['device_id'].transform('count')\n",
    "\n",
    "matrix['user_count']=matrix.groupby(['user'])['user'].transform('count')\n",
    "matrix['hourly_user_count']=matrix.groupby(['user','hour'])['user'].transform('count')\n",
    "matrix['hourly_count']=matrix.groupby(['hour'])['hour'].transform('count')\n",
    "\n",
    "matrix['app_count']=matrix.groupby(['app'])['app'].transform('count')\n",
    "matrix['site_count']=matrix.groupby(['site'])['site'].transform('count')\n",
    "\n",
    "matrix['hourly_app_count']=matrix.groupby(['app','hour'])['app'].transform('count')\n",
    "matrix['hourly_site_count']=matrix.groupby(['site','hour'])['site'].transform('count')\n",
    "\n",
    "\n",
    "matrix['C14_count']=matrix.groupby(['C14'])['C14'].transform('count')\n",
    "matrix['C21_count']=matrix.groupby(['C21'])['C21'].transform('count')\n",
    "matrix['C19_count']=matrix.groupby(['C19'])['C19'].transform('count')\n",
    "matrix['C20_count']=matrix.groupby(['C20'])['C20'].transform('count')\n"
   ]
  },
  {
   "cell_type": "code",
   "execution_count": 8,
   "metadata": {},
   "outputs": [],
   "source": [
    "#以下加入w2v特征\n",
    "app_id_em=pd.read_csv('/home/aistudio/data/data18783/app_id_em.csv')\n",
    "site_domain_em=pd.read_csv('/home/aistudio/data/data18783/site_domain_em.csv')\n",
    "site_id_em=pd.read_csv('/home/aistudio/data/data18783/site_id_em.csv')\n"
   ]
  },
  {
   "cell_type": "code",
   "execution_count": 9,
   "metadata": {},
   "outputs": [],
   "source": [
    "\n",
    "matrix=matrix.merge(app_id_em, on='app_id', how='left')\n",
    "matrix=matrix.merge(site_id_em, on='site_id', how='left')\n",
    "matrix=matrix.merge(site_domain_em, on='site_domain', how='left')\n"
   ]
  },
  {
   "cell_type": "code",
   "execution_count": 10,
   "metadata": {},
   "outputs": [
    {
     "data": {
      "text/plain": [
       "Index(['id', 'click', 'hour', 'C1', 'banner_pos', 'site_id', 'site_domain',\n",
       "       'site_category', 'app_id', 'app_domain', 'app_category', 'device_id',\n",
       "       'device_ip', 'device_model', 'device_type', 'device_conn_type', 'C14',\n",
       "       'C15', 'C16', 'C17', 'C18', 'C19', 'C20', 'C21', 'time', 'day', 'user',\n",
       "       'app', 'site', 'clickcopy', 'device_ip_count', 'device_id_count',\n",
       "       'hourly_device_ip_count', 'hourly_device_id_count', 'user_count',\n",
       "       'hourly_user_count', 'hourly_count', 'app_count', 'site_count',\n",
       "       'hourly_app_count', 'hourly_site_count', 'app_idW0', 'app_idW1',\n",
       "       'app_idW2', 'app_idW3', 'app_idW4', 'app_idW5', 'site_idW0',\n",
       "       'site_idW1', 'site_idW2', 'site_idW3', 'site_idW4', 'site_idW5',\n",
       "       'site_domainW0', 'site_domainW1', 'site_domainW2', 'site_domainW3',\n",
       "       'site_domainW4', 'site_domainW5'],\n",
       "      dtype='object')"
      ]
     },
     "execution_count": 10,
     "metadata": {},
     "output_type": "execute_result"
    }
   ],
   "source": [
    "matrix.columns"
   ]
  },
  {
   "cell_type": "code",
   "execution_count": null,
   "metadata": {},
   "outputs": [],
   "source": [
    "#对分类特征进行hash处理,某种程度上相当于label-encode\n",
    "D=2**20\n",
    "for feat in ['hour', 'C1', 'banner_pos', 'site_id', 'site_domain',\n",
    "       'site_category', 'app_id', 'app_domain', 'app_category', 'device_id',\n",
    "       'device_ip', 'device_model', 'device_type', 'device_conn_type', 'C14',\n",
    "       'C15', 'C16', 'C17', 'C18', 'C19', 'C20', 'C21', 'time',  'user',\n",
    "       'app', 'site']:\n",
    "    \n",
    "    matrix.loc[:,feat]=matrix.loc[:][feat].apply(lambda x:abs(hash((feat+'_'+str(x))))% D)\n",
    "\n"
   ]
  },
  {
   "cell_type": "code",
   "execution_count": null,
   "metadata": {},
   "outputs": [
    {
     "data": {
      "text/html": [
       "<div>\n",
       "<style scoped>\n",
       "    .dataframe tbody tr th:only-of-type {\n",
       "        vertical-align: middle;\n",
       "    }\n",
       "\n",
       "    .dataframe tbody tr th {\n",
       "        vertical-align: top;\n",
       "    }\n",
       "\n",
       "    .dataframe thead th {\n",
       "        text-align: right;\n",
       "    }\n",
       "</style>\n",
       "<table border=\"1\" class=\"dataframe\">\n",
       "  <thead>\n",
       "    <tr style=\"text-align: right;\">\n",
       "      <th></th>\n",
       "      <th>id</th>\n",
       "      <th>click</th>\n",
       "      <th>hour</th>\n",
       "      <th>C1</th>\n",
       "      <th>banner_pos</th>\n",
       "      <th>site_id</th>\n",
       "      <th>site_domain</th>\n",
       "      <th>site_category</th>\n",
       "      <th>app_id</th>\n",
       "      <th>app_domain</th>\n",
       "      <th>...</th>\n",
       "      <th>site_idW2</th>\n",
       "      <th>site_idW3</th>\n",
       "      <th>site_idW4</th>\n",
       "      <th>site_idW5</th>\n",
       "      <th>site_domainW0</th>\n",
       "      <th>site_domainW1</th>\n",
       "      <th>site_domainW2</th>\n",
       "      <th>site_domainW3</th>\n",
       "      <th>site_domainW4</th>\n",
       "      <th>site_domainW5</th>\n",
       "    </tr>\n",
       "  </thead>\n",
       "  <tbody>\n",
       "    <tr>\n",
       "      <th>0</th>\n",
       "      <td>1.000053e+19</td>\n",
       "      <td>0.0</td>\n",
       "      <td>0</td>\n",
       "      <td>1005</td>\n",
       "      <td>0</td>\n",
       "      <td>1998</td>\n",
       "      <td>4062</td>\n",
       "      <td>5</td>\n",
       "      <td>4727</td>\n",
       "      <td>33</td>\n",
       "      <td>...</td>\n",
       "      <td>-1.803902</td>\n",
       "      <td>2.234095</td>\n",
       "      <td>0.318872</td>\n",
       "      <td>-0.787385</td>\n",
       "      <td>1.502016</td>\n",
       "      <td>-0.160808</td>\n",
       "      <td>-0.721087</td>\n",
       "      <td>2.507872</td>\n",
       "      <td>0.129629</td>\n",
       "      <td>-2.128301</td>\n",
       "    </tr>\n",
       "    <tr>\n",
       "      <th>1</th>\n",
       "      <td>1.000062e+18</td>\n",
       "      <td>0.0</td>\n",
       "      <td>0</td>\n",
       "      <td>1005</td>\n",
       "      <td>0</td>\n",
       "      <td>1998</td>\n",
       "      <td>4062</td>\n",
       "      <td>5</td>\n",
       "      <td>3094</td>\n",
       "      <td>194</td>\n",
       "      <td>...</td>\n",
       "      <td>-1.803902</td>\n",
       "      <td>2.234095</td>\n",
       "      <td>0.318872</td>\n",
       "      <td>-0.787385</td>\n",
       "      <td>1.502016</td>\n",
       "      <td>-0.160808</td>\n",
       "      <td>-0.721087</td>\n",
       "      <td>2.507872</td>\n",
       "      <td>0.129629</td>\n",
       "      <td>-2.128301</td>\n",
       "    </tr>\n",
       "    <tr>\n",
       "      <th>2</th>\n",
       "      <td>1.000067e+19</td>\n",
       "      <td>0.0</td>\n",
       "      <td>0</td>\n",
       "      <td>1002</td>\n",
       "      <td>0</td>\n",
       "      <td>3336</td>\n",
       "      <td>1392</td>\n",
       "      <td>5</td>\n",
       "      <td>4933</td>\n",
       "      <td>132</td>\n",
       "      <td>...</td>\n",
       "      <td>-0.208467</td>\n",
       "      <td>0.018273</td>\n",
       "      <td>-0.016244</td>\n",
       "      <td>0.051306</td>\n",
       "      <td>NaN</td>\n",
       "      <td>NaN</td>\n",
       "      <td>NaN</td>\n",
       "      <td>NaN</td>\n",
       "      <td>NaN</td>\n",
       "      <td>NaN</td>\n",
       "    </tr>\n",
       "    <tr>\n",
       "      <th>3</th>\n",
       "      <td>1.000083e+19</td>\n",
       "      <td>0.0</td>\n",
       "      <td>0</td>\n",
       "      <td>1005</td>\n",
       "      <td>0</td>\n",
       "      <td>1998</td>\n",
       "      <td>4062</td>\n",
       "      <td>5</td>\n",
       "      <td>58</td>\n",
       "      <td>33</td>\n",
       "      <td>...</td>\n",
       "      <td>-1.803902</td>\n",
       "      <td>2.234095</td>\n",
       "      <td>0.318872</td>\n",
       "      <td>-0.787385</td>\n",
       "      <td>1.502016</td>\n",
       "      <td>-0.160808</td>\n",
       "      <td>-0.721087</td>\n",
       "      <td>2.507872</td>\n",
       "      <td>0.129629</td>\n",
       "      <td>-2.128301</td>\n",
       "    </tr>\n",
       "    <tr>\n",
       "      <th>4</th>\n",
       "      <td>1.000158e+19</td>\n",
       "      <td>0.0</td>\n",
       "      <td>0</td>\n",
       "      <td>1005</td>\n",
       "      <td>0</td>\n",
       "      <td>848</td>\n",
       "      <td>3516</td>\n",
       "      <td>22</td>\n",
       "      <td>4933</td>\n",
       "      <td>132</td>\n",
       "      <td>...</td>\n",
       "      <td>-0.616026</td>\n",
       "      <td>-0.280881</td>\n",
       "      <td>-0.808455</td>\n",
       "      <td>0.315808</td>\n",
       "      <td>0.257943</td>\n",
       "      <td>0.107588</td>\n",
       "      <td>0.680755</td>\n",
       "      <td>0.682446</td>\n",
       "      <td>-0.484952</td>\n",
       "      <td>0.153898</td>\n",
       "    </tr>\n",
       "  </tbody>\n",
       "</table>\n",
       "<p>5 rows × 63 columns</p>\n",
       "</div>"
      ],
      "text/plain": [
       "             id  click  hour    C1  banner_pos  site_id  site_domain  \\\n",
       "0  1.000053e+19    0.0     0  1005           0     1998         4062   \n",
       "1  1.000062e+18    0.0     0  1005           0     1998         4062   \n",
       "2  1.000067e+19    0.0     0  1002           0     3336         1392   \n",
       "3  1.000083e+19    0.0     0  1005           0     1998         4062   \n",
       "4  1.000158e+19    0.0     0  1005           0      848         3516   \n",
       "\n",
       "   site_category  app_id  app_domain      ...        site_idW2  site_idW3  \\\n",
       "0              5    4727          33      ...        -1.803902   2.234095   \n",
       "1              5    3094         194      ...        -1.803902   2.234095   \n",
       "2              5    4933         132      ...        -0.208467   0.018273   \n",
       "3              5      58          33      ...        -1.803902   2.234095   \n",
       "4             22    4933         132      ...        -0.616026  -0.280881   \n",
       "\n",
       "   site_idW4  site_idW5  site_domainW0  site_domainW1  site_domainW2  \\\n",
       "0   0.318872  -0.787385       1.502016      -0.160808      -0.721087   \n",
       "1   0.318872  -0.787385       1.502016      -0.160808      -0.721087   \n",
       "2  -0.016244   0.051306            NaN            NaN            NaN   \n",
       "3   0.318872  -0.787385       1.502016      -0.160808      -0.721087   \n",
       "4  -0.808455   0.315808       0.257943       0.107588       0.680755   \n",
       "\n",
       "   site_domainW3  site_domainW4  site_domainW5  \n",
       "0       2.507872       0.129629      -2.128301  \n",
       "1       2.507872       0.129629      -2.128301  \n",
       "2            NaN            NaN            NaN  \n",
       "3       2.507872       0.129629      -2.128301  \n",
       "4       0.682446      -0.484952       0.153898  \n",
       "\n",
       "[5 rows x 63 columns]"
      ]
     },
     "execution_count": null,
     "metadata": {},
     "output_type": "execute_result"
    }
   ],
   "source": [
    "matrix.head()"
   ]
  },
  {
   "cell_type": "code",
   "execution_count": null,
   "metadata": {},
   "outputs": [
    {
     "data": {
      "text/plain": [
       "66"
      ]
     },
     "execution_count": null,
     "metadata": {},
     "output_type": "execute_result"
    }
   ],
   "source": [
    "#测试时用\n",
    "\n",
    "val=matrix[(matrix.day==30)] \n",
    "tra=matrix[(matrix.day==30)|(matrix.day==29)|(matrix.day==28)]\n",
    "test=matrix[(matrix.day==31)]\n",
    "\n",
    "del matrix\n",
    "gc.collect()"
   ]
  },
  {
   "cell_type": "code",
   "execution_count": 13,
   "metadata": {},
   "outputs": [],
   "source": [
    "\n",
    "features=[ 'hour', 'banner_pos', 'site_id', 'site_domain',\n",
    "       'site_category', 'app_id', 'app_domain', 'app_category', 'device_id',\n",
    "        'device_model', 'C14',\n",
    "        'C16',  'C18', 'C19', 'C20', 'C21','app_idW0', 'app_idW1', 'app_idW2', 'app_idW3', 'app_idW4', 'app_idW5','site_idW0', 'site_idW1', 'site_idW2', 'site_idW3', 'site_idW4',\n",
    "        'site_domainW0', 'site_domainW1', 'site_domainW2',\n",
    "       'C1','C17','device_type', 'device_conn_type',\n",
    "      'device_ip_count', 'device_id_count', 'hourly_device_ip_count',\n",
    "       'hourly_device_id_count', 'user_count', 'hourly_user_count',\n",
    "       'hourly_count', 'app_count', 'site_count', 'hourly_app_count',\n",
    "       'hourly_site_count', 'user','app','site','C14_count','C21_count','C19_count','C20_count',\n",
    "       'site_domainW3', 'site_domainW4', 'site_domainW5','site_idW0', 'site_idW1', 'site_idW2',\n",
    "       'site_idW3', 'site_idW4', 'site_idW5']\n",
    "\n",
    "\n"
   ]
  },
  {
   "cell_type": "code",
   "execution_count": null,
   "metadata": {},
   "outputs": [],
   "source": [
    "#测试时用\n",
    "y_val=val['click']\n",
    "x_val=val[features]\n",
    "y_train=tra['click']\n",
    "x_train=tra[features]\n",
    "x_test=test[features]"
   ]
  },
  {
   "cell_type": "code",
   "execution_count": 16,
   "metadata": {},
   "outputs": [],
   "source": [
    "\n",
    "import lightgbm as lgb\n",
    "\n",
    "\n",
    "lgb_params = {\n",
    "    'n_estimators' : 5000,\n",
    "    'learning_rate' : 0.02,\n",
    "    'colsample_bytree' : 0.3,\n",
    "    'subsample' : 0.7,\n",
    "    'subsample_freq' : 2,\n",
    "    'num_leaves' : 16,\n",
    "    'seed' : 99\n",
    "}\n",
    "\n",
    "\n",
    "\n",
    "\n",
    "lgb_model = lgb.LGBMClassifier(**lgb_params2)\n",
    "\n"
   ]
  },
  {
   "cell_type": "code",
   "execution_count": 15,
   "metadata": {},
   "outputs": [],
   "source": [
    "lgb_model.fit(x_train, y_train, eval_set=[(x_train, y_train),(x_val, y_val)],  eval_metric='logloss',verbose=True,\n",
    "            early_stopping_rounds=50)"
   ]
  },
  {
   "cell_type": "code",
   "execution_count": null,
   "metadata": {},
   "outputs": [],
   "source": [
    "#生成提交用的submission\n",
    "submission=pd.read_csv('/home/aistudio/data/data18783/Submission.csv')\n",
    "test_predict = lgb_model2.predict_proba(x_test)[:, 1]\n",
    "submission['click']=test_predict\n",
    "submission.to_csv(\"/home/aistudio/data/data18783/submission.csv\", index=False)\n"
   ]
  },
  {
   "cell_type": "code",
   "execution_count": null,
   "metadata": {},
   "outputs": [
    {
     "data": {
      "text/html": [
       "<div>\n",
       "<style scoped>\n",
       "    .dataframe tbody tr th:only-of-type {\n",
       "        vertical-align: middle;\n",
       "    }\n",
       "\n",
       "    .dataframe tbody tr th {\n",
       "        vertical-align: top;\n",
       "    }\n",
       "\n",
       "    .dataframe thead th {\n",
       "        text-align: right;\n",
       "    }\n",
       "</style>\n",
       "<table border=\"1\" class=\"dataframe\">\n",
       "  <thead>\n",
       "    <tr style=\"text-align: right;\">\n",
       "      <th></th>\n",
       "      <th>id</th>\n",
       "      <th>click</th>\n",
       "    </tr>\n",
       "  </thead>\n",
       "  <tbody>\n",
       "    <tr>\n",
       "      <th>0</th>\n",
       "      <td>10000174058809263569</td>\n",
       "      <td>0.003924</td>\n",
       "    </tr>\n",
       "    <tr>\n",
       "      <th>1</th>\n",
       "      <td>10000182526920855428</td>\n",
       "      <td>0.141182</td>\n",
       "    </tr>\n",
       "    <tr>\n",
       "      <th>2</th>\n",
       "      <td>10000554139829213984</td>\n",
       "      <td>0.625298</td>\n",
       "    </tr>\n",
       "    <tr>\n",
       "      <th>3</th>\n",
       "      <td>10001094637809798845</td>\n",
       "      <td>0.002743</td>\n",
       "    </tr>\n",
       "    <tr>\n",
       "      <th>4</th>\n",
       "      <td>10001377041558670745</td>\n",
       "      <td>0.241326</td>\n",
       "    </tr>\n",
       "  </tbody>\n",
       "</table>\n",
       "</div>"
      ],
      "text/plain": [
       "                     id     click\n",
       "0  10000174058809263569  0.003924\n",
       "1  10000182526920855428  0.141182\n",
       "2  10000554139829213984  0.625298\n",
       "3  10001094637809798845  0.002743\n",
       "4  10001377041558670745  0.241326"
      ]
     },
     "execution_count": null,
     "metadata": {},
     "output_type": "execute_result"
    }
   ],
   "source": [
    "submission.head()"
   ]
  }
 ],
 "metadata": {
  "kernelspec": {
   "display_name": "Python 3",
   "language": "python",
   "name": "python3"
  },
  "language_info": {
   "codemirror_mode": {
    "name": "ipython",
    "version": 3
   },
   "file_extension": ".py",
   "mimetype": "text/x-python",
   "name": "python",
   "nbconvert_exporter": "python",
   "pygments_lexer": "ipython3",
   "version": "3.7.3"
  }
 },
 "nbformat": 4,
 "nbformat_minor": 1
}
