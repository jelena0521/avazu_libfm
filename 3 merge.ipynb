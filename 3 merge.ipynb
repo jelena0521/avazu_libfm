{
 "cells": [
  {
   "cell_type": "code",
   "execution_count": 3,
   "metadata": {},
   "outputs": [],
   "source": [
    "#简单将ffm得到的结果和lightgbm得到的结果进行平均融合\n",
    "import pandas as pd\n",
    "#submission是lightgbm得到的结果，submissionffm是ffm得到的结果\n",
    "submission=pd.read_csv('submission.csv')\n",
    "submissionffm=pd.read_csv('predictoutput',header=None)\n",
    "submission['click0']=submission0\n",
    "submission['click']=(submission['click']+submission['click0'])/2\n",
    "submission.drop(['click0'],axis=1,inplace=True)\n",
    "submission.to_csv(\"submission0.csv\", index=False)\n"
   ]
  }
 ],
 "metadata": {
  "kernelspec": {
   "display_name": "Python 3",
   "language": "python",
   "name": "python3"
  },
  "language_info": {
   "codemirror_mode": {
    "name": "ipython",
    "version": 3
   },
   "file_extension": ".py",
   "mimetype": "text/x-python",
   "name": "python",
   "nbconvert_exporter": "python",
   "pygments_lexer": "ipython3",
   "version": "3.7.3"
  }
 },
 "nbformat": 4,
 "nbformat_minor": 2
}
